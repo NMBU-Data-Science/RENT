{
 "cells": [
  {
   "cell_type": "markdown",
   "id": "730157d4",
   "metadata": {},
   "source": [
    "# Extensive Elastic Net Hyperparameter Selection in RENT"
   ]
  },
  {
   "cell_type": "markdown",
   "id": "115840ce",
   "metadata": {},
   "source": [
    "This Jupyter notebook illustrates how RENT chooses hyperparameters **C** and **l1_ratio** for elastic net regularization, where the selection is embedded in the training step. For each hyperparameter combination the user tries, multiple elastic net models are trained and evaluated. As a result, the best combination with regard to two criteria shown in this notebook is selected. The hyperparameter selection in the Jupyter notebooks **RENT applied to a binary classification problem** and **RENT applied to a regression problem** happens with cross validation and is the same for classification and regression tasks. Therefore, the extensive hyperparameter search is shown on the classification problem only, but can be used for regression problems equivalently. Compared to the cross-validation approach, the extensive parameter search has high computational costs --- especially for large datasets it is not recommended. The input parameter `autoEnetParSel`, which is `True` by default, indicates if the cross-validated hyperparameter search is used. Hence, `autoEnetParSel` will be `False` in this notebook. Once the hyperparameters are selected, the flow of feature selection and post-hoc analysis remains the same as in the other Jupyter notebooks."
   ]
  },
  {
   "cell_type": "code",
   "execution_count": 1,
   "id": "d4430ec2",
   "metadata": {},
   "outputs": [],
   "source": [
    "import pandas as pd\n",
    "pd.set_option('display.max_rows', None)\n",
    "pd.set_option('display.max_columns', None)\n",
    "pd.set_option('display.width', None)\n",
    "pd.set_option('display.max_colwidth', 2000)\n",
    "\n",
    "from RENT import RENT\n",
    "\n",
    "import warnings\n",
    "warnings.filterwarnings(\"ignore\")"
   ]
  },
  {
   "cell_type": "markdown",
   "id": "eb2e9414",
   "metadata": {},
   "source": [
    "### Load dataset"
   ]
  },
  {
   "cell_type": "code",
   "execution_count": 2,
   "id": "f30413d0",
   "metadata": {},
   "outputs": [],
   "source": [
    "train_data = pd.read_csv(\"data/wisconsin_train.csv\").iloc[:,1:]\n",
    "train_labels = pd.read_csv(\"data/wisconsin_train_labels.csv\").iloc[:,1].values\n",
    "test_data = pd.read_csv(\"data/wisconsin_test.csv\").iloc[:,1:]\n",
    "test_labels = pd.read_csv(\"data/wisconsin_test_labels.csv\").iloc[:,1:].values"
   ]
  },
  {
   "cell_type": "markdown",
   "id": "71fa829c",
   "metadata": {},
   "source": [
    "### Define and train the RENT model"
   ]
  },
  {
   "cell_type": "markdown",
   "id": "034e4465",
   "metadata": {},
   "source": [
    "When setting `autoEnetParSel=False`, RENT computes `K` models for each hyperparameter combination of `C` and `l1_ratios`. Therefore, in this example $\\text{len(C)}\\cdot \\text{len(l1_ratios)}\\cdot \\text{K} = 3 \\cdot 7 \\cdot 100 = 2100$ models are computed in total, whereas with cross-validation the hyperparameters are chosen beforehand and $\\text{K}=100$ models would be computed. "
   ]
  },
  {
   "cell_type": "code",
   "execution_count": 3,
   "id": "b672a715",
   "metadata": {},
   "outputs": [
    {
     "name": "stdout",
     "output_type": "stream",
     "text": [
      "data dimension: (399, 30)  data type: <class 'pandas.core.frame.DataFrame'>\n",
      "target dimension: (399,)\n",
      "regularization parameters C: [0.1, 1, 10]\n",
      "elastic net l1_ratios: [0, 0.1, 0.25, 0.5, 0.75, 0.9, 1]\n",
      "poly: OFF\n",
      "number of models in ensemble: 100\n",
      "random state: 0\n",
      "verbose: 1\n",
      "classifier: logreg\n",
      "scoring: mcc\n"
     ]
    }
   ],
   "source": [
    "# Define a range of regularisation parameters C for elastic net. A minimum of at least one value is required.\n",
    "my_C_params = [0.1, 1, 10]\n",
    "\n",
    "# Define a reange of l1-ratios for elastic net.  A minimum of at least one value is required.\n",
    "my_l1_ratios = [0, 0.1, 0.25, 0.5, 0.75, 0.9, 1]\n",
    "\n",
    "# Define setting for RENT\n",
    "model = RENT.RENT_Classification(data=train_data, \n",
    "                                 target=train_labels, \n",
    "                                 feat_names=train_data.columns, \n",
    "                                 C=my_C_params, \n",
    "                                 l1_ratios=my_l1_ratios,\n",
    "                                 autoEnetParSel=False,\n",
    "                                 poly='OFF',\n",
    "                                 testsize_range=(0.25,0.25),\n",
    "                                 scoring='mcc',\n",
    "                                 classifier='logreg',\n",
    "                                 K=100,\n",
    "                                 random_state = 0,\n",
    "                                 verbose=1)"
   ]
  },
  {
   "cell_type": "code",
   "execution_count": 4,
   "id": "bd7364d1",
   "metadata": {},
   "outputs": [],
   "source": [
    "model.train()"
   ]
  },
  {
   "cell_type": "markdown",
   "id": "d09ef2bc",
   "metadata": {},
   "source": [
    "Compared to the Jupyter notebook **RENT applied to a binary classification problem**, where it takes less than 4 seconds to train the model, it takes more than 2 minutes when `autoEnetParSel=False`. Hence, runtime is the main justification for using the faster cross-validation approach. For datasets where a single model can be fitted in reasonable time it is also worth trying the full hyperparameter search."
   ]
  },
  {
   "cell_type": "code",
   "execution_count": 5,
   "id": "f7bb410f",
   "metadata": {},
   "outputs": [
    {
     "data": {
      "text/plain": [
       "161.0327591896057"
      ]
     },
     "execution_count": 5,
     "metadata": {},
     "output_type": "execute_result"
    }
   ],
   "source": [
    "model.get_runtime()"
   ]
  },
  {
   "cell_type": "markdown",
   "id": "a87588b1",
   "metadata": {},
   "source": [
    "### Hyperparameter selection"
   ]
  },
  {
   "cell_type": "markdown",
   "id": "b33b3cf9",
   "metadata": {},
   "source": [
    "The method `get_enetParam_matrices()` returns three matrices which are used for selecting a hyperparameter combination. In each matrix, the columns represent the different values for `C` and the rows contain `l1_ratios`, respectively."
   ]
  },
  {
   "cell_type": "code",
   "execution_count": 6,
   "id": "20bbc4d5",
   "metadata": {},
   "outputs": [],
   "source": [
    "scores, zeroes, harmonic_mean = model.get_enetParam_matrices()"
   ]
  },
  {
   "cell_type": "markdown",
   "id": "6e0c5360",
   "metadata": {},
   "source": [
    "For each combination of `C` and `l1_ratio`, `K` models have been computed. The first matrix, `Scores`, shows the average prediction scores for each hyperparameter combination over the `K` models. In this example, we conclude that that the combination $(\\text{C}=0.1, \\text{l1_ratio}=0)$ yields the highest average score. "
   ]
  },
  {
   "cell_type": "code",
   "execution_count": 7,
   "id": "989c3919",
   "metadata": {},
   "outputs": [
    {
     "data": {
      "text/html": [
       "<div>\n",
       "<style scoped>\n",
       "    .dataframe tbody tr th:only-of-type {\n",
       "        vertical-align: middle;\n",
       "    }\n",
       "\n",
       "    .dataframe tbody tr th {\n",
       "        vertical-align: top;\n",
       "    }\n",
       "\n",
       "    .dataframe thead th {\n",
       "        text-align: right;\n",
       "    }\n",
       "</style>\n",
       "<table border=\"1\" class=\"dataframe\">\n",
       "  <thead>\n",
       "    <tr style=\"text-align: right;\">\n",
       "      <th>Scores</th>\n",
       "      <th>0.1</th>\n",
       "      <th>1.0</th>\n",
       "      <th>10.0</th>\n",
       "    </tr>\n",
       "  </thead>\n",
       "  <tbody>\n",
       "    <tr>\n",
       "      <th>0.00</th>\n",
       "      <td>0.942949</td>\n",
       "      <td>0.939164</td>\n",
       "      <td>0.916429</td>\n",
       "    </tr>\n",
       "    <tr>\n",
       "      <th>0.10</th>\n",
       "      <td>0.939039</td>\n",
       "      <td>0.939138</td>\n",
       "      <td>0.916034</td>\n",
       "    </tr>\n",
       "    <tr>\n",
       "      <th>0.25</th>\n",
       "      <td>0.938605</td>\n",
       "      <td>0.938920</td>\n",
       "      <td>0.916021</td>\n",
       "    </tr>\n",
       "    <tr>\n",
       "      <th>0.50</th>\n",
       "      <td>0.926711</td>\n",
       "      <td>0.939421</td>\n",
       "      <td>0.914288</td>\n",
       "    </tr>\n",
       "    <tr>\n",
       "      <th>0.75</th>\n",
       "      <td>0.918131</td>\n",
       "      <td>0.938161</td>\n",
       "      <td>0.911101</td>\n",
       "    </tr>\n",
       "    <tr>\n",
       "      <th>0.90</th>\n",
       "      <td>0.913619</td>\n",
       "      <td>0.934290</td>\n",
       "      <td>0.908983</td>\n",
       "    </tr>\n",
       "    <tr>\n",
       "      <th>1.00</th>\n",
       "      <td>0.913086</td>\n",
       "      <td>0.932802</td>\n",
       "      <td>0.907211</td>\n",
       "    </tr>\n",
       "  </tbody>\n",
       "</table>\n",
       "</div>"
      ],
      "text/plain": [
       "Scores      0.1       1.0       10.0\n",
       "0.00    0.942949  0.939164  0.916429\n",
       "0.10    0.939039  0.939138  0.916034\n",
       "0.25    0.938605  0.938920  0.916021\n",
       "0.50    0.926711  0.939421  0.914288\n",
       "0.75    0.918131  0.938161  0.911101\n",
       "0.90    0.913619  0.934290  0.908983\n",
       "1.00    0.913086  0.932802  0.907211"
      ]
     },
     "execution_count": 7,
     "metadata": {},
     "output_type": "execute_result"
    }
   ],
   "source": [
    "scores"
   ]
  },
  {
   "cell_type": "markdown",
   "id": "b35c3bdc",
   "metadata": {},
   "source": [
    "Nevertheless, we are searching for a combination that delivers a high score and simultaneously reduces the size of the feature set notably. Therefore, we also compute the matrix `zeroes`, returning the average amount of features set to $0$ for each hyperparameter combination. For $(\\text{C}=0.1, \\text{l1_ratio}=1)$, on average more than $0.8\\%$ of all features are assigned the weight $0$, which is the highest value in the matrix. On the other side, for the combination with the highest score $(\\text{C}=0.1, \\text{l1_ratio}=0)$ no features are set to $0$ (a penalty with $\\text{l1_ratio}=0$ is equivalent to ridge-regression). "
   ]
  },
  {
   "cell_type": "code",
   "execution_count": 8,
   "id": "ab4c43cb",
   "metadata": {},
   "outputs": [
    {
     "data": {
      "text/html": [
       "<div>\n",
       "<style scoped>\n",
       "    .dataframe tbody tr th:only-of-type {\n",
       "        vertical-align: middle;\n",
       "    }\n",
       "\n",
       "    .dataframe tbody tr th {\n",
       "        vertical-align: top;\n",
       "    }\n",
       "\n",
       "    .dataframe thead th {\n",
       "        text-align: right;\n",
       "    }\n",
       "</style>\n",
       "<table border=\"1\" class=\"dataframe\">\n",
       "  <thead>\n",
       "    <tr style=\"text-align: right;\">\n",
       "      <th>Zeroes</th>\n",
       "      <th>0.1</th>\n",
       "      <th>1.0</th>\n",
       "      <th>10.0</th>\n",
       "    </tr>\n",
       "  </thead>\n",
       "  <tbody>\n",
       "    <tr>\n",
       "      <th>0.00</th>\n",
       "      <td>0.0</td>\n",
       "      <td>0.0</td>\n",
       "      <td>0.0</td>\n",
       "    </tr>\n",
       "    <tr>\n",
       "      <th>0.10</th>\n",
       "      <td>0.083667</td>\n",
       "      <td>0.039667</td>\n",
       "      <td>0.005</td>\n",
       "    </tr>\n",
       "    <tr>\n",
       "      <th>0.25</th>\n",
       "      <td>0.283333</td>\n",
       "      <td>0.107667</td>\n",
       "      <td>0.026</td>\n",
       "    </tr>\n",
       "    <tr>\n",
       "      <th>0.50</th>\n",
       "      <td>0.459333</td>\n",
       "      <td>0.226667</td>\n",
       "      <td>0.065333</td>\n",
       "    </tr>\n",
       "    <tr>\n",
       "      <th>0.75</th>\n",
       "      <td>0.579667</td>\n",
       "      <td>0.385</td>\n",
       "      <td>0.111667</td>\n",
       "    </tr>\n",
       "    <tr>\n",
       "      <th>0.90</th>\n",
       "      <td>0.731667</td>\n",
       "      <td>0.493333</td>\n",
       "      <td>0.144333</td>\n",
       "    </tr>\n",
       "    <tr>\n",
       "      <th>1.00</th>\n",
       "      <td>0.801</td>\n",
       "      <td>0.572333</td>\n",
       "      <td>0.167</td>\n",
       "    </tr>\n",
       "  </tbody>\n",
       "</table>\n",
       "</div>"
      ],
      "text/plain": [
       "Zeroes      0.1       1.0       10.0\n",
       "0.00         0.0       0.0       0.0\n",
       "0.10    0.083667  0.039667     0.005\n",
       "0.25    0.283333  0.107667     0.026\n",
       "0.50    0.459333  0.226667  0.065333\n",
       "0.75    0.579667     0.385  0.111667\n",
       "0.90    0.731667  0.493333  0.144333\n",
       "1.00       0.801  0.572333     0.167"
      ]
     },
     "execution_count": 8,
     "metadata": {},
     "output_type": "execute_result"
    }
   ],
   "source": [
    "zeroes"
   ]
  },
  {
   "cell_type": "markdown",
   "id": "b3e6416f",
   "metadata": {},
   "source": [
    "To get the best out of both, a high score and a high number of features set to zero, we normalize both matrices `Score` and `Zeroes` and calculate their harmonic mean. "
   ]
  },
  {
   "cell_type": "code",
   "execution_count": 9,
   "id": "856296b6",
   "metadata": {},
   "outputs": [
    {
     "data": {
      "text/html": [
       "<div>\n",
       "<style scoped>\n",
       "    .dataframe tbody tr th:only-of-type {\n",
       "        vertical-align: middle;\n",
       "    }\n",
       "\n",
       "    .dataframe tbody tr th {\n",
       "        vertical-align: top;\n",
       "    }\n",
       "\n",
       "    .dataframe thead th {\n",
       "        text-align: right;\n",
       "    }\n",
       "</style>\n",
       "<table border=\"1\" class=\"dataframe\">\n",
       "  <thead>\n",
       "    <tr style=\"text-align: right;\">\n",
       "      <th>Harmonic Mean</th>\n",
       "      <th>0.1</th>\n",
       "      <th>1.0</th>\n",
       "      <th>10.0</th>\n",
       "    </tr>\n",
       "  </thead>\n",
       "  <tbody>\n",
       "    <tr>\n",
       "      <th>0.00</th>\n",
       "      <td>0.000000</td>\n",
       "      <td>0.000000</td>\n",
       "      <td>0.000000</td>\n",
       "    </tr>\n",
       "    <tr>\n",
       "      <th>0.10</th>\n",
       "      <td>0.186976</td>\n",
       "      <td>0.093841</td>\n",
       "      <td>0.012177</td>\n",
       "    </tr>\n",
       "    <tr>\n",
       "      <th>0.25</th>\n",
       "      <td>0.504360</td>\n",
       "      <td>0.233462</td>\n",
       "      <td>0.057365</td>\n",
       "    </tr>\n",
       "    <tr>\n",
       "      <th>0.50</th>\n",
       "      <td>0.559199</td>\n",
       "      <td>0.430724</td>\n",
       "      <td>0.115541</td>\n",
       "    </tr>\n",
       "    <tr>\n",
       "      <th>0.75</th>\n",
       "      <td>0.429695</td>\n",
       "      <td>0.618197</td>\n",
       "      <td>0.122244</td>\n",
       "    </tr>\n",
       "    <tr>\n",
       "      <th>0.90</th>\n",
       "      <td>0.299748</td>\n",
       "      <td>0.679482</td>\n",
       "      <td>0.077747</td>\n",
       "    </tr>\n",
       "    <tr>\n",
       "      <th>1.00</th>\n",
       "      <td>0.282358</td>\n",
       "      <td>0.715295</td>\n",
       "      <td>0.000000</td>\n",
       "    </tr>\n",
       "  </tbody>\n",
       "</table>\n",
       "</div>"
      ],
      "text/plain": [
       "Harmonic Mean      0.1       1.0       10.0\n",
       "0.00           0.000000  0.000000  0.000000\n",
       "0.10           0.186976  0.093841  0.012177\n",
       "0.25           0.504360  0.233462  0.057365\n",
       "0.50           0.559199  0.430724  0.115541\n",
       "0.75           0.429695  0.618197  0.122244\n",
       "0.90           0.299748  0.679482  0.077747\n",
       "1.00           0.282358  0.715295  0.000000"
      ]
     },
     "execution_count": 9,
     "metadata": {},
     "output_type": "execute_result"
    }
   ],
   "source": [
    "harmonic_mean"
   ]
  },
  {
   "cell_type": "markdown",
   "id": "5d0b4b0a",
   "metadata": {},
   "source": [
    "The hyperparameter combination with the highest harmonic mean is selected."
   ]
  },
  {
   "cell_type": "code",
   "execution_count": 10,
   "id": "219d1ac2",
   "metadata": {},
   "outputs": [
    {
     "data": {
      "text/plain": [
       "(1.0, 1.0)"
      ]
     },
     "execution_count": 10,
     "metadata": {},
     "output_type": "execute_result"
    }
   ],
   "source": [
    "model.get_enet_params()"
   ]
  },
  {
   "cell_type": "markdown",
   "id": "63b36d1a",
   "metadata": {},
   "source": [
    "### Feature Selection"
   ]
  },
  {
   "cell_type": "markdown",
   "id": "6a0c8087",
   "metadata": {},
   "source": [
    "From this point on, the flow is equivalent as in the Jupyter notebook **RENT applied to a binary classification problem**. We can perform feature selection and post-hoc analysis."
   ]
  },
  {
   "cell_type": "code",
   "execution_count": 11,
   "id": "b48b9928",
   "metadata": {},
   "outputs": [],
   "source": [
    "selected_features = model.select_features(tau_1_cutoff=0.9, tau_2_cutoff=0.9, tau_3_cutoff=0.975)"
   ]
  },
  {
   "cell_type": "code",
   "execution_count": 12,
   "id": "78de4786",
   "metadata": {},
   "outputs": [
    {
     "data": {
      "text/plain": [
       "array([20, 21, 23, 24, 27, 28])"
      ]
     },
     "execution_count": 12,
     "metadata": {},
     "output_type": "execute_result"
    }
   ],
   "source": [
    "selected_features"
   ]
  },
  {
   "cell_type": "markdown",
   "id": "55285a2d",
   "metadata": {},
   "source": [
    "#### Hyperparameter selection can be changed manually"
   ]
  },
  {
   "cell_type": "markdown",
   "id": "bb0d0142",
   "metadata": {},
   "source": [
    "Since `K` models are computed for each input hyperparameter combination, the user can manually switch hyperparameters with `set_enet_params()` to another computed combination. In this case, RENT selects features based on the user-set hyperparameters."
   ]
  },
  {
   "cell_type": "code",
   "execution_count": 13,
   "id": "b5003540",
   "metadata": {},
   "outputs": [],
   "source": [
    "model.set_enet_params(C=1, l1_ratio=0.9)"
   ]
  },
  {
   "cell_type": "code",
   "execution_count": 14,
   "id": "586f2aa3",
   "metadata": {},
   "outputs": [
    {
     "data": {
      "text/plain": [
       "(1, 0.9)"
      ]
     },
     "execution_count": 14,
     "metadata": {},
     "output_type": "execute_result"
    }
   ],
   "source": [
    "model.get_enet_params()"
   ]
  },
  {
   "cell_type": "code",
   "execution_count": 15,
   "id": "96d8b2eb",
   "metadata": {},
   "outputs": [],
   "source": [
    "selected_features = model.select_features(tau_1_cutoff=0.9, tau_2_cutoff=0.9, tau_3_cutoff=0.975)"
   ]
  },
  {
   "cell_type": "code",
   "execution_count": 16,
   "id": "a109ab2a",
   "metadata": {},
   "outputs": [
    {
     "data": {
      "text/plain": [
       "array([ 7, 15, 20, 21, 22, 23, 24, 27, 28])"
      ]
     },
     "execution_count": 16,
     "metadata": {},
     "output_type": "execute_result"
    }
   ],
   "source": [
    "selected_features"
   ]
  }
 ],
 "metadata": {
  "kernelspec": {
   "display_name": "Python 3",
   "language": "python",
   "name": "python3"
  },
  "language_info": {
   "codemirror_mode": {
    "name": "ipython",
    "version": 3
   },
   "file_extension": ".py",
   "mimetype": "text/x-python",
   "name": "python",
   "nbconvert_exporter": "python",
   "pygments_lexer": "ipython3",
   "version": "3.7.8"
  }
 },
 "nbformat": 4,
 "nbformat_minor": 5
}
