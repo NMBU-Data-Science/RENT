{
 "cells": [
  {
   "cell_type": "markdown",
   "metadata": {},
   "source": [
    "# RENT hyperparameter search with the Bayesian information criterion (BIC)"
   ]
  },
  {
   "cell_type": "markdown",
   "metadata": {},
   "source": [
    "This notebook illustrates how BIC can be used to determine the elastic net parameters as well as the cutoff parameters. "
   ]
  },
  {
   "cell_type": "code",
   "execution_count": 1,
   "metadata": {},
   "outputs": [],
   "source": [
    "import numpy as np\n",
    "import pandas as pd\n",
    "pd.set_option('display.max_rows', None)\n",
    "pd.set_option('display.max_columns', None)\n",
    "pd.set_option('display.width', None)\n",
    "pd.set_option('display.max_colwidth', 2000)\n",
    "\n",
    "import sys\n",
    "sys.path.append('../src')\n",
    "from RENT import RENT, stability\n",
    "\n",
    "import warnings\n",
    "warnings.filterwarnings(\"ignore\")"
   ]
  },
  {
   "cell_type": "markdown",
   "metadata": {},
   "source": [
    "Load the dataset."
   ]
  },
  {
   "cell_type": "code",
   "execution_count": 2,
   "metadata": {},
   "outputs": [],
   "source": [
    "train_data = pd.read_csv(\"data/wisconsin_train.csv\").iloc[:,1:]\n",
    "train_labels = pd.read_csv(\"data/wisconsin_train_labels.csv\").iloc[:,1].values\n",
    "test_data = pd.read_csv(\"data/wisconsin_test.csv\").iloc[:,1:]\n",
    "test_labels = pd.read_csv(\"data/wisconsin_test_labels.csv\").iloc[:,1:].values"
   ]
  },
  {
   "cell_type": "markdown",
   "metadata": {},
   "source": [
    "The parameter BIC is set True in the RENT model initialization."
   ]
  },
  {
   "cell_type": "code",
   "execution_count": 3,
   "metadata": {},
   "outputs": [
    {
     "name": "stdout",
     "output_type": "stream",
     "text": [
      "data dimension: (399, 30)  data type: <class 'pandas.core.frame.DataFrame'>\n",
      "target dimension: (399,)\n",
      "regularization parameters C: [0.1, 1, 10]\n",
      "elastic net l1_ratios: [0, 0.1, 0.25, 0.5, 0.75, 0.9, 1]\n",
      "poly: OFF\n",
      "number of models in ensemble: 100\n",
      "random state: 0\n",
      "verbose: 1\n"
     ]
    },
    {
     "name": "stderr",
     "output_type": "stream",
     "text": [
      "[Parallel(n_jobs=-1)]: Using backend ThreadingBackend with 8 concurrent workers.\n"
     ]
    },
    {
     "name": "stdout",
     "output_type": "stream",
     "text": [
      "classifier: logreg\n",
      "scoring: mcc\n"
     ]
    },
    {
     "name": "stderr",
     "output_type": "stream",
     "text": [
      "[Parallel(n_jobs=-1)]: Done   7 out of   7 | elapsed:    0.4s finished\n"
     ]
    }
   ],
   "source": [
    "# Define a range of regularisation parameters C for elastic net. A minimum of at least one value is required.\n",
    "my_C_params = [0.1, 1, 10]\n",
    "\n",
    "# Define a reange of l1-ratios for elastic net.  A minimum of at least one value is required.\n",
    "my_l1_ratios = [0, 0.1, 0.25, 0.5, 0.75, 0.9, 1]\n",
    "\n",
    "# Define setting for RENT\n",
    "model = RENT.RENT_Classification(data=train_data, \n",
    "                                 target=train_labels, \n",
    "                                 feat_names=train_data.columns, \n",
    "                                 C=my_C_params, \n",
    "                                 l1_ratios=my_l1_ratios,\n",
    "                                 autoEnetParSel=True,\n",
    "                                 BIC=True,\n",
    "                                 poly='OFF',\n",
    "                                 testsize_range=(0.25,0.25),\n",
    "                                 scoring='mcc',\n",
    "                                 classifier='logreg',\n",
    "                                 K=100,\n",
    "                                 random_state=0,\n",
    "                                 verbose=1)"
   ]
  },
  {
   "cell_type": "markdown",
   "metadata": {},
   "source": [
    "The hyperparameter combination with the minimal BIC values is selected."
   ]
  },
  {
   "cell_type": "code",
   "execution_count": 4,
   "metadata": {},
   "outputs": [],
   "source": [
    "model.train()"
   ]
  },
  {
   "cell_type": "code",
   "execution_count": 5,
   "metadata": {},
   "outputs": [
    {
     "data": {
      "text/html": [
       "<div>\n",
       "<style scoped>\n",
       "    .dataframe tbody tr th:only-of-type {\n",
       "        vertical-align: middle;\n",
       "    }\n",
       "\n",
       "    .dataframe tbody tr th {\n",
       "        vertical-align: top;\n",
       "    }\n",
       "\n",
       "    .dataframe thead th {\n",
       "        text-align: right;\n",
       "    }\n",
       "</style>\n",
       "<table border=\"1\" class=\"dataframe\">\n",
       "  <thead>\n",
       "    <tr style=\"text-align: right;\">\n",
       "      <th></th>\n",
       "      <th>0.1</th>\n",
       "      <th>1.0</th>\n",
       "      <th>10.0</th>\n",
       "    </tr>\n",
       "  </thead>\n",
       "  <tbody>\n",
       "    <tr>\n",
       "      <th>0.00</th>\n",
       "      <td>260.603784</td>\n",
       "      <td>237.937293</td>\n",
       "      <td>235.038652</td>\n",
       "    </tr>\n",
       "    <tr>\n",
       "      <th>0.10</th>\n",
       "      <td>251.850404</td>\n",
       "      <td>238.18584</td>\n",
       "      <td>235.054014</td>\n",
       "    </tr>\n",
       "    <tr>\n",
       "      <th>0.25</th>\n",
       "      <td>221.010979</td>\n",
       "      <td>226.638275</td>\n",
       "      <td>235.077773</td>\n",
       "    </tr>\n",
       "    <tr>\n",
       "      <th>0.50</th>\n",
       "      <td>192.422296</td>\n",
       "      <td>215.515464</td>\n",
       "      <td>235.119253</td>\n",
       "    </tr>\n",
       "    <tr>\n",
       "      <th>0.75</th>\n",
       "      <td>193.187215</td>\n",
       "      <td>216.504365</td>\n",
       "      <td>235.162998</td>\n",
       "    </tr>\n",
       "    <tr>\n",
       "      <th>0.90</th>\n",
       "      <td>173.269467</td>\n",
       "      <td>211.131411</td>\n",
       "      <td>235.190304</td>\n",
       "    </tr>\n",
       "    <tr>\n",
       "      <th>1.00</th>\n",
       "      <td>169.750094</td>\n",
       "      <td>205.529354</td>\n",
       "      <td>235.208948</td>\n",
       "    </tr>\n",
       "  </tbody>\n",
       "</table>\n",
       "</div>"
      ],
      "text/plain": [
       "            0.1         1.0         10.0\n",
       "0.00  260.603784  237.937293  235.038652\n",
       "0.10  251.850404   238.18584  235.054014\n",
       "0.25  221.010979  226.638275  235.077773\n",
       "0.50  192.422296  215.515464  235.119253\n",
       "0.75  193.187215  216.504365  235.162998\n",
       "0.90  173.269467  211.131411  235.190304\n",
       "1.00  169.750094  205.529354  235.208948"
      ]
     },
     "execution_count": 5,
     "metadata": {},
     "output_type": "execute_result"
    }
   ],
   "source": [
    "model.get_BIC_matrix()"
   ]
  },
  {
   "cell_type": "code",
   "execution_count": 6,
   "metadata": {},
   "outputs": [
    {
     "data": {
      "text/plain": [
       "(0.1, 1.0)"
      ]
     },
     "execution_count": 6,
     "metadata": {},
     "output_type": "execute_result"
    }
   ],
   "source": [
    "model.get_enet_params()"
   ]
  },
  {
   "cell_type": "markdown",
   "metadata": {},
   "source": [
    "Once the RENT model is trained, we select the cutoff hyperparameters, again with BIC."
   ]
  },
  {
   "cell_type": "code",
   "execution_count": 7,
   "metadata": {},
   "outputs": [],
   "source": [
    "cutoff_parameters = {'t1': np.arange(0.2,1.05,0.05),\n",
    "                     't2': np.arange(0.2,1.05,0.05),\n",
    "                     't3': [0.9, 0.95, 0.975, 0.99]}\n",
    "\n",
    "BIC = model.BIC_cutoff_search(cutoff_parameters)"
   ]
  },
  {
   "cell_type": "code",
   "execution_count": 8,
   "metadata": {},
   "outputs": [
    {
     "name": "stdout",
     "output_type": "stream",
     "text": [
      "Tau 1: 1.0 ; Tau 2: 1.0 ; Tau 3: 0.99\n"
     ]
    }
   ],
   "source": [
    "indices_matrix = np.stack(np.where(BIC == np.min(BIC)), axis=0)\n",
    "tau1 = np.max(indices_matrix[0,:])\n",
    "indices_matrix = indices_matrix[:,np.where(indices_matrix[0,:] == tau1)[0]]\n",
    "tau2 = np.max(indices_matrix[1,:])\n",
    "indices_matrix = indices_matrix[:,np.where(indices_matrix[1,:] == tau2)[0]]\n",
    "tau3 = np.max(indices_matrix[2,:])\n",
    "\n",
    "tau1 = np.round(cutoff_parameters['t1'][tau1], 2)\n",
    "tau2 = np.round(cutoff_parameters['t2'][tau2], 2)\n",
    "tau3 = np.round(cutoff_parameters['t3'][tau3], 2)\n",
    "\n",
    "print(\"Tau 1:\", tau1, \"; Tau 2:\", tau2, \"; Tau 3:\", tau3)"
   ]
  },
  {
   "cell_type": "markdown",
   "metadata": {},
   "source": [
    "The features are selected based on the parameters selected with the BIC cutoff hyperparameter search."
   ]
  },
  {
   "cell_type": "code",
   "execution_count": 9,
   "metadata": {},
   "outputs": [],
   "source": [
    "selected_features = model.select_features(tau_1_cutoff=tau1, tau_2_cutoff=tau2, tau_3_cutoff=tau3)"
   ]
  },
  {
   "cell_type": "code",
   "execution_count": 10,
   "metadata": {},
   "outputs": [
    {
     "data": {
      "text/plain": [
       "array([ 7, 20, 21, 27])"
      ]
     },
     "execution_count": 10,
     "metadata": {},
     "output_type": "execute_result"
    }
   ],
   "source": [
    "selected_features"
   ]
  },
  {
   "cell_type": "code",
   "execution_count": 11,
   "metadata": {},
   "outputs": [
    {
     "data": {
      "text/plain": [
       "Index(['F8', 'F21', 'F22', 'F28'], dtype='object')"
      ]
     },
     "execution_count": 11,
     "metadata": {},
     "output_type": "execute_result"
    }
   ],
   "source": [
    "train_data.columns[selected_features]"
   ]
  }
 ],
 "metadata": {
  "kernelspec": {
   "display_name": "Python 3",
   "language": "python",
   "name": "python3"
  },
  "language_info": {
   "codemirror_mode": {
    "name": "ipython",
    "version": 3
   },
   "file_extension": ".py",
   "mimetype": "text/x-python",
   "name": "python",
   "nbconvert_exporter": "python",
   "pygments_lexer": "ipython3",
   "version": "3.8.10"
  }
 },
 "nbformat": 4,
 "nbformat_minor": 4
}
